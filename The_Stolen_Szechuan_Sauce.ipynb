{
 "cells": [
  {
   "cell_type": "markdown",
   "metadata": {},
   "source": [
    "# Questions to Answer / Goals\n",
    "\n",
    "#### What’s the Operating System of the Server? \n",
    "####  What’s the Operating System of the Desktop?  \n",
    "####  What was the local time of the Server?\n",
    "####  Was there a breach?\n",
    "####  What was the initial entry vector (how did they get in)? \n",
    "```\n",
    "10.42.85.10\",\"src_port\":62410,\"dest_ip\":\"194.61.24.102\",\"dest_port\":80, \"signature\":\"ET INFO Executable Download from dotted-quad Host\",\"category\":\"A Network Trojan was detected\n",
    "```\n",
    "#### Was malware used? If so what was it? If there was malware answer the following: coreupdater.exe/Trojan.Metasploit\n",
    "#### What process was malicious? \n",
    "#### Identify the IP Address that delivered the payload.    194.61.24.102\n",
    "#### What IP Address is the malware calling to? \n",
    "```\n",
    "203.78.103.109 2020-09-19T02:29:49.355765+0000\n",
    "```\n",
    "#### Where is this malware on disk?\n",
    "#### When did it first appear?\n",
    "#### Did someone move it?\n",
    "\n",
    "#### What were the capabilities of this malware? \n",
    "* Persistence - Hooking\n",
    "* Privilege Escalation - Hooking\n",
    "* Credential Access - Hooking\n",
    "* Discovery - Network service scanning, Query Registry, System NEtwork config discovery\n",
    "* Command and Control - Commonly used port\n",
    "\n",
    "#### Is this malware easily obtained?\n",
    "#### Was this malware installed with persistence on any machine?\n",
    "* When?\n",
    "* Where?\n",
    "#### What malicious IP Addresses were involved?\n",
    "* Were any IP Addresses from known adversary infrastructure?\n",
    "* Are these pieces of adversary infrastructure involved in other attacks around the time of the attack?\n",
    "#### Did the attacker access any other systems?\n",
    "* How?\n",
    "* When?\n",
    "* Did the attacker steal or access any data?\n",
    "        * When?\n",
    "#### What was the network layout of the victim network?\n",
    "#### What architecture changes should be made immediately?\n",
    "#### Did the attacker steal the Szechuan sauce? If so, what time?\n",
    "#### Did the attacker steal or access any other sensitive files? If so, what times?\n",
    "#### Finally, when was the last known contact with the adversary?\n",
    "\n",
    "\n",
    "\n",
    "[Download Case files] (https://dfirmadness.com/the-stolen-szechuan-sauce/)\n",
    "\n",
    "\n",
    "\n",
    "\n"
   ]
  },
  {
   "cell_type": "code",
   "execution_count": 15,
   "metadata": {},
   "outputs": [],
   "source": [
    "import pandas as pd\n",
    "import json\n",
    "from pandas.io.json import json_normalize\n"
   ]
  },
  {
   "cell_type": "markdown",
   "metadata": {},
   "source": [
    "Basic Analysis of Dataset\n",
    "\n",
    "pandas has several methods that allow you to quickly analyze a dataset and get an idea of the type and amount of data you are dealing with along with some important statistics.\n",
    "\n",
    "    .shape - returns the row and column count of a dataset\n",
    "    .describe() - returns statistics about the numerical columns in a dataset\n",
    "    .dtypes returns the data type of each column\n"
   ]
  },
  {
   "cell_type": "code",
   "execution_count": 16,
   "metadata": {},
   "outputs": [
    {
     "output_type": "error",
     "ename": "AttributeError",
     "evalue": "'DataFrame' object has no attribute 'json_to_df'",
     "traceback": [
      "\u001b[0;31m---------------------------------------------------------------------------\u001b[0m",
      "\u001b[0;31mAttributeError\u001b[0m                            Traceback (most recent call last)",
      "\u001b[0;32m<ipython-input-16-ed58c6db8f5b>\u001b[0m in \u001b[0;36m<module>\u001b[0;34m\u001b[0m\n\u001b[1;32m      7\u001b[0m \u001b[0;34m\u001b[0m\u001b[0m\n\u001b[1;32m      8\u001b[0m \u001b[0;31m# Indication of expected JSON string format\u001b[0m\u001b[0;34m\u001b[0m\u001b[0;34m\u001b[0m\u001b[0;34m\u001b[0m\u001b[0m\n\u001b[0;32m----> 9\u001b[0;31m \u001b[0msuri_df\u001b[0m \u001b[0;34m=\u001b[0m \u001b[0mdata\u001b[0m\u001b[0;34m.\u001b[0m\u001b[0mjson_to_df\u001b[0m\u001b[0;34m(\u001b[0m\u001b[0mverbose\u001b[0m\u001b[0;34m=\u001b[0m\u001b[0;32mTrue\u001b[0m\u001b[0;34m)\u001b[0m\u001b[0;34m\u001b[0m\u001b[0;34m\u001b[0m\u001b[0m\n\u001b[0m\u001b[1;32m     10\u001b[0m \u001b[0msuri_df\u001b[0m\u001b[0;34m.\u001b[0m\u001b[0mhead\u001b[0m\u001b[0;34m(\u001b[0m\u001b[0;36m3\u001b[0m\u001b[0;34m)\u001b[0m\u001b[0;34m\u001b[0m\u001b[0;34m\u001b[0m\u001b[0m\n",
      "\u001b[0;32m~/sauce/sauce_venv/lib/python3.8/site-packages/pandas/core/generic.py\u001b[0m in \u001b[0;36m__getattr__\u001b[0;34m(self, name)\u001b[0m\n\u001b[1;32m   5137\u001b[0m             \u001b[0;32mif\u001b[0m \u001b[0mself\u001b[0m\u001b[0;34m.\u001b[0m\u001b[0m_info_axis\u001b[0m\u001b[0;34m.\u001b[0m\u001b[0m_can_hold_identifiers_and_holds_name\u001b[0m\u001b[0;34m(\u001b[0m\u001b[0mname\u001b[0m\u001b[0;34m)\u001b[0m\u001b[0;34m:\u001b[0m\u001b[0;34m\u001b[0m\u001b[0;34m\u001b[0m\u001b[0m\n\u001b[1;32m   5138\u001b[0m                 \u001b[0;32mreturn\u001b[0m \u001b[0mself\u001b[0m\u001b[0;34m[\u001b[0m\u001b[0mname\u001b[0m\u001b[0;34m]\u001b[0m\u001b[0;34m\u001b[0m\u001b[0;34m\u001b[0m\u001b[0m\n\u001b[0;32m-> 5139\u001b[0;31m             \u001b[0;32mreturn\u001b[0m \u001b[0mobject\u001b[0m\u001b[0;34m.\u001b[0m\u001b[0m__getattribute__\u001b[0m\u001b[0;34m(\u001b[0m\u001b[0mself\u001b[0m\u001b[0;34m,\u001b[0m \u001b[0mname\u001b[0m\u001b[0;34m)\u001b[0m\u001b[0;34m\u001b[0m\u001b[0;34m\u001b[0m\u001b[0m\n\u001b[0m\u001b[1;32m   5140\u001b[0m \u001b[0;34m\u001b[0m\u001b[0m\n\u001b[1;32m   5141\u001b[0m     \u001b[0;32mdef\u001b[0m \u001b[0m__setattr__\u001b[0m\u001b[0;34m(\u001b[0m\u001b[0mself\u001b[0m\u001b[0;34m,\u001b[0m \u001b[0mname\u001b[0m\u001b[0;34m:\u001b[0m \u001b[0mstr\u001b[0m\u001b[0;34m,\u001b[0m \u001b[0mvalue\u001b[0m\u001b[0;34m)\u001b[0m \u001b[0;34m->\u001b[0m \u001b[0;32mNone\u001b[0m\u001b[0;34m:\u001b[0m\u001b[0;34m\u001b[0m\u001b[0;34m\u001b[0m\u001b[0m\n",
      "\u001b[0;31mAttributeError\u001b[0m: 'DataFrame' object has no attribute 'json_to_df'"
     ]
    }
   ],
   "source": [
    "#data = pd.read_json(\"data/eve.json\", lines=True)\n",
    "#df.head(5)\n",
    "#df.describe()\n",
    "# Creating Dataframe  \n",
    "\n",
    "data = pd.read_json(\"data/eve.json\", lines=True)\n",
    "\n",
    "# Indication of expected JSON string format \n",
    "suri_df = data.json_to_df(verbose=True)\n",
    "suri_df.head(3)\n"
   ]
  },
  {
   "cell_type": "markdown",
   "metadata": {},
   "source": [
    "Here are some additional methods that can give you statistics of a DataFrame or particular column in a DataFrame.\n",
    "\n",
    "    .mean(axis=0 [will give you the calculated value per column]) - returns the statistical mean\n",
    "    .median(axis=0 [will give you the calculated value per column]) - returns the statistical median\n",
    "    .mode(axis=0 [will give you the calculated value per column]) - returns the statistical mode\n",
    "    .count() - gives number of total values in column\n",
    "    .unique() - returns array of all unique values in that column\n",
    "    .value_counts() - returns object containing counts of unique values\n"
   ]
  },
  {
   "cell_type": "code",
   "execution_count": 24,
   "metadata": {},
   "outputs": [
    {
     "output_type": "error",
     "ename": "AttributeError",
     "evalue": "'Index' object has no attribute 'alert'",
     "traceback": [
      "\u001b[0;31m---------------------------------------------------------------------------\u001b[0m",
      "\u001b[0;31mAttributeError\u001b[0m                            Traceback (most recent call last)",
      "\u001b[0;32m<ipython-input-24-074b52e6398e>\u001b[0m in \u001b[0;36m<module>\u001b[0;34m\u001b[0m\n\u001b[0;32m----> 1\u001b[0;31m \u001b[0mdf\u001b[0m\u001b[0;34m.\u001b[0m\u001b[0mcolumns\u001b[0m\u001b[0;34m.\u001b[0m\u001b[0malert\u001b[0m\u001b[0;34m.\u001b[0m\u001b[0munique\u001b[0m\u001b[0;34m(\u001b[0m\u001b[0;34m)\u001b[0m\u001b[0;34m\u001b[0m\u001b[0;34m\u001b[0m\u001b[0m\n\u001b[0m",
      "\u001b[0;31mAttributeError\u001b[0m: 'Index' object has no attribute 'alert'"
     ]
    }
   ],
   "source": [
    "\n",
    "df.columns.()\n"
   ]
  },
  {
   "cell_type": "code",
   "execution_count": null,
   "metadata": {},
   "outputs": [],
   "source": []
  }
 ],
 "metadata": {
  "kernelspec": {
   "display_name": "Python 3",
   "language": "python",
   "name": "python3"
  },
  "language_info": {
   "codemirror_mode": {
    "name": "ipython",
    "version": 3
   },
   "file_extension": ".py",
   "mimetype": "text/x-python",
   "name": "python",
   "nbconvert_exporter": "python",
   "pygments_lexer": "ipython3",
   "version": "3.8.2-final"
  }
 },
 "nbformat": 4,
 "nbformat_minor": 4
}